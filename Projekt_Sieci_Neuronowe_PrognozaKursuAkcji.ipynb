{
  "nbformat": 4,
  "nbformat_minor": 0,
  "metadata": {
    "colab": {
      "provenance": [],
      "gpuType": "T4",
      "authorship_tag": "ABX9TyOQs/++76y0KCKxKgYpgFtb",
      "include_colab_link": true
    },
    "kernelspec": {
      "name": "python3",
      "display_name": "Python 3"
    },
    "language_info": {
      "name": "python"
    },
    "accelerator": "GPU"
  },
  "cells": [
    {
      "cell_type": "markdown",
      "metadata": {
        "id": "view-in-github",
        "colab_type": "text"
      },
      "source": [
        "<a href=\"https://colab.research.google.com/github/Mr-SuSeL/NeuralNetworkPredictsDowJones/blob/main/Projekt_Sieci_Neuronowe_PrognozaKursuAkcji.ipynb\" target=\"_parent\"><img src=\"https://colab.research.google.com/assets/colab-badge.svg\" alt=\"Open In Colab\"/></a>"
      ]
    },
    {
      "cell_type": "code",
      "source": [
        "import pandas as pd\n",
        "# Dane pobrane z portalu stooq.pl\n",
        "#stocks = 'https://raw.githubusercontent.com/Mr-SuSeL/NeuralNetworkPredictsDowJones/main/19880101_20191231.csv'\n",
        "stocks = 'https://raw.githubusercontent.com/Mr-SuSeL/NeuralNetworkPredictsDowJones/main/dji.csv'\n",
        "data_raw = pd.read_csv(stocks, index_col='Date')"
      ],
      "metadata": {
        "id": "3uw_DQiPqMA6"
      },
      "execution_count": null,
      "outputs": []
    },
    {
      "cell_type": "code",
      "source": [
        "def generate_features(df):\n",
        "    \"\"\"\n",
        "    Generujemy cechy, dane notowań giełdowego indeksu i stopy zwrotu\n",
        "    @param df: ramka danych z nagłówkami: \"Open\", \"Close\", \"High\", \"Low\", \"Volume\"\n",
        "    @return: datazwracamy ramkę danych z nowymi ustawieniami\n",
        "    \"\"\"\n",
        "    df_new = pd.DataFrame()\n",
        "    # 6 original features\n",
        "    df_new['open'] = df['Open']\n",
        "    df_new['open_1'] = df['Open'].shift(1)\n",
        "    df_new['close_1'] = df['Close'].shift(1)\n",
        "    df_new['high_1'] = df['High'].shift(1)\n",
        "    df_new['low_1'] = df['Low'].shift(1)\n",
        "    df_new['volume_1'] = df['Volume'].shift(1)\n",
        "    # 31 generated features\n",
        "    # average price\n",
        "    df_new['avg_price_5'] = df['Close'].rolling(5).mean().shift(1)\n",
        "    df_new['avg_price_30'] = df['Close'].rolling(21).mean().shift(1)\n",
        "    df_new['avg_price_365'] = df['Close'].rolling(252).mean().shift(1)\n",
        "    df_new['ratio_avg_price_5_30'] = df_new['avg_price_5'] / df_new['avg_price_30']\n",
        "    df_new['ratio_avg_price_5_365'] = df_new['avg_price_5'] / df_new['avg_price_365']\n",
        "    df_new['ratio_avg_price_30_365'] = df_new['avg_price_30'] / df_new['avg_price_365']\n",
        "    # average volume\n",
        "    df_new['avg_volume_5'] = df['Volume'].rolling(5).mean().shift(1)\n",
        "    df_new['avg_volume_30'] = df['Volume'].rolling(21).mean().shift(1)\n",
        "    df_new['avg_volume_365'] = df['Volume'].rolling(252).mean().shift(1)\n",
        "    df_new['ratio_avg_volume_5_30'] = df_new['avg_volume_5'] / df_new['avg_volume_30']\n",
        "    df_new['ratio_avg_volume_5_365'] = df_new['avg_volume_5'] / df_new['avg_volume_365']\n",
        "    df_new['ratio_avg_volume_30_365'] = df_new['avg_volume_30'] / df_new['avg_volume_365']\n",
        "    # standard deviation of prices\n",
        "    df_new['std_price_5'] = df['Close'].rolling(5).std().shift(1)\n",
        "    df_new['std_price_30'] = df['Close'].rolling(21).std().shift(1)\n",
        "    df_new['std_price_365'] = df['Close'].rolling(252).std().shift(1)\n",
        "    df_new['ratio_std_price_5_30'] = df_new['std_price_5'] / df_new['std_price_30']\n",
        "    df_new['ratio_std_price_5_365'] = df_new['std_price_5'] / df_new['std_price_365']\n",
        "    df_new['ratio_std_price_30_365'] = df_new['std_price_30'] / df_new['std_price_365']\n",
        "    # standard deviation of volumes\n",
        "    df_new['std_volume_5'] = df['Volume'].rolling(5).std().shift(1)\n",
        "    df_new['std_volume_30'] = df['Volume'].rolling(21).std().shift(1)\n",
        "    df_new['std_volume_365'] = df['Volume'].rolling(252).std().shift(1)\n",
        "    df_new['ratio_std_volume_5_30'] = df_new['std_volume_5'] / df_new['std_volume_30']\n",
        "    df_new['ratio_std_volume_5_365'] = df_new['std_volume_5'] / df_new['std_volume_365']\n",
        "    df_new['ratio_std_volume_30_365'] = df_new['std_volume_30'] / df_new['std_volume_365']\n",
        "    # # return\n",
        "    df_new['return_1'] = ((df['Close'] - df['Close'].shift(1)) / df['Close'].shift(1)).shift(1)\n",
        "    df_new['return_5'] = ((df['Close'] - df['Close'].shift(5)) / df['Close'].shift(5)).shift(1)\n",
        "    df_new['return_30'] = ((df['Close'] - df['Close'].shift(21)) / df['Close'].shift(21)).shift(1)\n",
        "    df_new['return_365'] = ((df['Close'] - df['Close'].shift(252)) / df['Close'].shift(252)).shift(1)\n",
        "    df_new['moving_avg_5'] = df_new['return_1'].rolling(5).mean().shift(1)\n",
        "    df_new['moving_avg_30'] = df_new['return_1'].rolling(21).mean().shift(1)\n",
        "    df_new['moving_avg_365'] = df_new['return_1'].rolling(252).mean().shift(1)\n",
        "    # the target\n",
        "    df_new['close'] = df['Close']\n",
        "    df_new = df_new.dropna(axis=0)\n",
        "    return df_new"
      ],
      "metadata": {
        "id": "fbkJSxg2qyYR"
      },
      "execution_count": null,
      "outputs": []
    },
    {
      "cell_type": "code",
      "source": [
        "# wywołanie funkcji na zmienionych (preprocessing) danych\n",
        "data = generate_features(data_raw)\n",
        "\n",
        "# Zakres danych od 1930 roku (od wtedy był dostępny wolumen na stooq.pl)\n",
        "start_train = '1930-02-03'\n",
        "start_train = '1930-02-03'\n",
        "end_train = '2023-02-07'\n",
        "\n",
        "start_test = '2023-02-07'\n",
        "end_test = '2024-02-07'\n"
      ],
      "metadata": {
        "id": "aWCyRpHsq0NT"
      },
      "execution_count": null,
      "outputs": []
    },
    {
      "cell_type": "code",
      "source": [
        "# podział danych na dane treningowe i testowe\n",
        "data_train = data.loc[start_train:end_train]\n",
        "X_train = data_train.drop('close', axis=1).values\n",
        "y_train = data_train['close'].values\n",
        "\n",
        "\n",
        "data_test = data.loc[start_test:end_test]\n",
        "X_test = data_test.drop('close', axis=1).values\n",
        "y_test = data_test['close'].values"
      ],
      "metadata": {
        "id": "V-YlQHY6q7X5"
      },
      "execution_count": null,
      "outputs": []
    },
    {
      "cell_type": "code",
      "source": [
        "# Skalowanie, standaryzacja danych treningowych i testowych\n",
        "from sklearn.preprocessing import StandardScaler\n",
        "scaler = StandardScaler()\n",
        "X_scaled_train = scaler.fit_transform(X_train)\n",
        "X_scaled_test = scaler.transform(X_test)"
      ],
      "metadata": {
        "id": "4SXJihuHrB1B"
      },
      "execution_count": null,
      "outputs": []
    },
    {
      "cell_type": "code",
      "source": [
        "# Do sekwencyjnej budowy modelu\n",
        "import tensorflow as tf\n",
        "from tensorflow.keras import Sequential\n",
        "from tensorflow.keras.layers import Dense"
      ],
      "metadata": {
        "id": "FC--UHuprFkZ"
      },
      "execution_count": null,
      "outputs": []
    },
    {
      "cell_type": "code",
      "source": [
        "# Uczenie sieci\n",
        "# losowość w oparciu o 'magiczne' ziarno\n",
        "tf.random.set_seed(42)\n",
        "\n",
        "# Budujemy model\n",
        "model = Sequential([\n",
        "    Dense(units=32, activation='relu'),\n",
        "    Dense(units=1)\n",
        "])\n",
        "\n",
        "# kompilujemy model\n",
        "model.compile(loss='mean_squared_error',\n",
        "              optimizer=tf.keras.optimizers.Adam(0.1))\n",
        "\n",
        "history = model.fit(X_scaled_train, y_train, epochs=100, verbose=True)\n"
      ],
      "metadata": {
        "colab": {
          "base_uri": "https://localhost:8080/"
        },
        "id": "8A4VfHuRrNZZ",
        "outputId": "687a540e-71c6-4325-fd4a-80a2ec91940e"
      },
      "execution_count": null,
      "outputs": [
        {
          "output_type": "stream",
          "name": "stdout",
          "text": [
            "Epoch 1/100\n",
            "754/754 [==============================] - 11s 10ms/step - loss: 4593163.5000\n",
            "Epoch 2/100\n",
            "754/754 [==============================] - 6s 7ms/step - loss: 45765.6367\n",
            "Epoch 3/100\n",
            "754/754 [==============================] - 4s 5ms/step - loss: 28892.2285\n",
            "Epoch 4/100\n",
            "754/754 [==============================] - 7s 9ms/step - loss: 25189.4590\n",
            "Epoch 5/100\n",
            "754/754 [==============================] - 2s 3ms/step - loss: 24052.5488\n",
            "Epoch 6/100\n",
            "754/754 [==============================] - 6s 7ms/step - loss: 27271.2637\n",
            "Epoch 7/100\n",
            "754/754 [==============================] - 5s 6ms/step - loss: 24747.7500\n",
            "Epoch 8/100\n",
            "754/754 [==============================] - 5s 6ms/step - loss: 26582.6738\n",
            "Epoch 9/100\n",
            "754/754 [==============================] - 5s 7ms/step - loss: 29556.6660\n",
            "Epoch 10/100\n",
            "754/754 [==============================] - 4s 5ms/step - loss: 23862.6074\n",
            "Epoch 11/100\n",
            "754/754 [==============================] - 7s 9ms/step - loss: 22411.4980\n",
            "Epoch 12/100\n",
            "754/754 [==============================] - 2s 3ms/step - loss: 26162.4375\n",
            "Epoch 13/100\n",
            "754/754 [==============================] - 6s 8ms/step - loss: 18955.1914\n",
            "Epoch 14/100\n",
            "754/754 [==============================] - 5s 6ms/step - loss: 20162.6914\n",
            "Epoch 15/100\n",
            "754/754 [==============================] - 5s 6ms/step - loss: 19054.4297\n",
            "Epoch 16/100\n",
            "754/754 [==============================] - 3s 4ms/step - loss: 20510.6523\n",
            "Epoch 17/100\n",
            "754/754 [==============================] - 6s 8ms/step - loss: 19391.3242\n",
            "Epoch 18/100\n",
            "754/754 [==============================] - 5s 7ms/step - loss: 18518.6465\n",
            "Epoch 19/100\n",
            "754/754 [==============================] - 5s 7ms/step - loss: 17800.5254\n",
            "Epoch 20/100\n",
            "754/754 [==============================] - 4s 6ms/step - loss: 16708.7793\n",
            "Epoch 21/100\n",
            "754/754 [==============================] - 5s 6ms/step - loss: 17725.8320\n",
            "Epoch 22/100\n",
            "754/754 [==============================] - 4s 5ms/step - loss: 18056.4043\n",
            "Epoch 23/100\n",
            "754/754 [==============================] - 6s 8ms/step - loss: 19286.8320\n",
            "Epoch 24/100\n",
            "754/754 [==============================] - 4s 5ms/step - loss: 18648.5000\n",
            "Epoch 25/100\n",
            "754/754 [==============================] - 5s 6ms/step - loss: 18709.5234\n",
            "Epoch 26/100\n",
            "754/754 [==============================] - 6s 7ms/step - loss: 17768.8379\n",
            "Epoch 27/100\n",
            "754/754 [==============================] - 4s 5ms/step - loss: 18653.4062\n",
            "Epoch 28/100\n",
            "754/754 [==============================] - 7s 10ms/step - loss: 18509.2949\n",
            "Epoch 29/100\n",
            "754/754 [==============================] - 2s 3ms/step - loss: 17905.3555\n",
            "Epoch 30/100\n",
            "754/754 [==============================] - 7s 9ms/step - loss: 16372.4395\n",
            "Epoch 31/100\n",
            "754/754 [==============================] - 2s 3ms/step - loss: 20046.8301\n",
            "Epoch 32/100\n",
            "754/754 [==============================] - 6s 7ms/step - loss: 15942.5898\n",
            "Epoch 33/100\n",
            "754/754 [==============================] - 5s 6ms/step - loss: 17598.2402\n",
            "Epoch 34/100\n",
            "754/754 [==============================] - 4s 5ms/step - loss: 16195.2168\n",
            "Epoch 35/100\n",
            "754/754 [==============================] - 6s 8ms/step - loss: 16980.9824\n",
            "Epoch 36/100\n",
            "754/754 [==============================] - 3s 4ms/step - loss: 16764.2969\n",
            "Epoch 37/100\n",
            "754/754 [==============================] - 4s 5ms/step - loss: 15876.7715\n",
            "Epoch 38/100\n",
            "754/754 [==============================] - 5s 6ms/step - loss: 18110.7617\n",
            "Epoch 39/100\n",
            "754/754 [==============================] - 4s 5ms/step - loss: 16552.5273\n",
            "Epoch 40/100\n",
            "754/754 [==============================] - 6s 8ms/step - loss: 16678.2734\n",
            "Epoch 41/100\n",
            "754/754 [==============================] - 4s 5ms/step - loss: 16463.5430\n",
            "Epoch 42/100\n",
            "754/754 [==============================] - 6s 7ms/step - loss: 16896.8691\n",
            "Epoch 43/100\n",
            "754/754 [==============================] - 6s 8ms/step - loss: 16105.3232\n",
            "Epoch 44/100\n",
            "754/754 [==============================] - 4s 5ms/step - loss: 16575.8145\n",
            "Epoch 45/100\n",
            "754/754 [==============================] - 5s 6ms/step - loss: 16218.6670\n",
            "Epoch 46/100\n",
            "754/754 [==============================] - 4s 5ms/step - loss: 15575.0830\n",
            "Epoch 47/100\n",
            "754/754 [==============================] - 6s 7ms/step - loss: 15930.9912\n",
            "Epoch 48/100\n",
            "754/754 [==============================] - 4s 5ms/step - loss: 16806.7617\n",
            "Epoch 49/100\n",
            "754/754 [==============================] - 6s 7ms/step - loss: 16637.8691\n",
            "Epoch 50/100\n",
            "754/754 [==============================] - 4s 6ms/step - loss: 16768.0020\n",
            "Epoch 51/100\n",
            "754/754 [==============================] - 7s 9ms/step - loss: 16535.7988\n",
            "Epoch 52/100\n",
            "754/754 [==============================] - 3s 4ms/step - loss: 14798.4004\n",
            "Epoch 53/100\n",
            "754/754 [==============================] - 6s 7ms/step - loss: 15236.7334\n",
            "Epoch 54/100\n",
            "754/754 [==============================] - 5s 7ms/step - loss: 15040.4395\n",
            "Epoch 55/100\n",
            "754/754 [==============================] - 4s 5ms/step - loss: 15388.1162\n",
            "Epoch 56/100\n",
            "754/754 [==============================] - 4s 5ms/step - loss: 16996.3105\n",
            "Epoch 57/100\n",
            "754/754 [==============================] - 6s 8ms/step - loss: 15567.1836\n",
            "Epoch 58/100\n",
            "754/754 [==============================] - 5s 6ms/step - loss: 16803.7656\n",
            "Epoch 59/100\n",
            "754/754 [==============================] - 4s 6ms/step - loss: 15518.4346\n",
            "Epoch 60/100\n",
            "754/754 [==============================] - 6s 7ms/step - loss: 15847.7930\n",
            "Epoch 61/100\n",
            "754/754 [==============================] - 4s 5ms/step - loss: 16140.4639\n",
            "Epoch 62/100\n",
            "754/754 [==============================] - 7s 10ms/step - loss: 14352.9912\n",
            "Epoch 63/100\n",
            "754/754 [==============================] - 2s 3ms/step - loss: 15377.1260\n",
            "Epoch 64/100\n",
            "754/754 [==============================] - 7s 9ms/step - loss: 15536.7412\n",
            "Epoch 65/100\n",
            "754/754 [==============================] - 2s 3ms/step - loss: 15014.7344\n",
            "Epoch 66/100\n",
            "754/754 [==============================] - 5s 7ms/step - loss: 13919.9297\n",
            "Epoch 67/100\n",
            "754/754 [==============================] - 5s 7ms/step - loss: 14843.0654\n",
            "Epoch 68/100\n",
            "754/754 [==============================] - 4s 5ms/step - loss: 16217.3818\n",
            "Epoch 69/100\n",
            "754/754 [==============================] - 7s 9ms/step - loss: 15195.3574\n",
            "Epoch 70/100\n",
            "754/754 [==============================] - 5s 6ms/step - loss: 15759.2695\n",
            "Epoch 71/100\n",
            "754/754 [==============================] - 4s 6ms/step - loss: 14353.7744\n",
            "Epoch 72/100\n",
            "754/754 [==============================] - 5s 7ms/step - loss: 14868.6318\n",
            "Epoch 73/100\n",
            "754/754 [==============================] - 3s 5ms/step - loss: 14958.1650\n",
            "Epoch 74/100\n",
            "754/754 [==============================] - 6s 7ms/step - loss: 14315.0020\n",
            "Epoch 75/100\n",
            "754/754 [==============================] - 4s 5ms/step - loss: 16306.4365\n",
            "Epoch 76/100\n",
            "754/754 [==============================] - 7s 9ms/step - loss: 15654.8701\n",
            "Epoch 77/100\n",
            "754/754 [==============================] - 6s 8ms/step - loss: 14072.3223\n",
            "Epoch 78/100\n",
            "754/754 [==============================] - 5s 7ms/step - loss: 15513.5029\n",
            "Epoch 79/100\n",
            "754/754 [==============================] - 4s 5ms/step - loss: 15506.2148\n",
            "Epoch 80/100\n",
            "754/754 [==============================] - 6s 7ms/step - loss: 15519.4570\n",
            "Epoch 81/100\n",
            "754/754 [==============================] - 3s 5ms/step - loss: 17340.6230\n",
            "Epoch 82/100\n",
            "754/754 [==============================] - 4s 5ms/step - loss: 14449.3018\n",
            "Epoch 83/100\n",
            "754/754 [==============================] - 6s 8ms/step - loss: 14689.8096\n",
            "Epoch 84/100\n",
            "754/754 [==============================] - 4s 5ms/step - loss: 15000.3516\n",
            "Epoch 85/100\n",
            "754/754 [==============================] - 6s 8ms/step - loss: 15799.3760\n",
            "Epoch 86/100\n",
            "754/754 [==============================] - 5s 6ms/step - loss: 13527.6016\n",
            "Epoch 87/100\n",
            "754/754 [==============================] - 3s 4ms/step - loss: 14450.4746\n",
            "Epoch 88/100\n",
            "754/754 [==============================] - 6s 7ms/step - loss: 15312.6904\n",
            "Epoch 89/100\n",
            "754/754 [==============================] - 4s 5ms/step - loss: 15471.3213\n",
            "Epoch 90/100\n",
            "754/754 [==============================] - 6s 8ms/step - loss: 13934.2100\n",
            "Epoch 91/100\n",
            "754/754 [==============================] - 4s 5ms/step - loss: 14483.1152\n",
            "Epoch 92/100\n",
            "754/754 [==============================] - 7s 9ms/step - loss: 14012.1973\n",
            "Epoch 93/100\n",
            "754/754 [==============================] - 2s 3ms/step - loss: 13920.1738\n",
            "Epoch 94/100\n",
            "754/754 [==============================] - 6s 7ms/step - loss: 14318.0576\n",
            "Epoch 95/100\n",
            "754/754 [==============================] - 5s 6ms/step - loss: 15257.9893\n",
            "Epoch 96/100\n",
            "754/754 [==============================] - 5s 6ms/step - loss: 14958.8730\n",
            "Epoch 97/100\n",
            "754/754 [==============================] - 6s 8ms/step - loss: 13864.2070\n",
            "Epoch 98/100\n",
            "754/754 [==============================] - 4s 5ms/step - loss: 14274.4023\n",
            "Epoch 99/100\n",
            "754/754 [==============================] - 6s 8ms/step - loss: 15297.7207\n",
            "Epoch 100/100\n",
            "754/754 [==============================] - 5s 7ms/step - loss: 14805.9795\n"
          ]
        },
        {
          "output_type": "execute_result",
          "data": {
            "text/plain": [
              "<keras.src.callbacks.History at 0x7ce6aae57fd0>"
            ]
          },
          "metadata": {},
          "execution_count": 7
        }
      ]
    },
    {
      "cell_type": "code",
      "source": [
        "predictions = model.predict(X_scaled_test)[:, 0]\n",
        "\n",
        "# Importuje metryki by ocenić jakość treningu\n",
        "from sklearn.metrics import mean_squared_error, mean_absolute_error, r2_score\n",
        "print(f'MSE: {mean_squared_error(y_test, predictions):.3f}')\n",
        "print(f'MAE: {mean_absolute_error(y_test, predictions):.3f}')\n",
        "print(f'R^2: {r2_score(y_test, predictions):.3f}')"
      ],
      "metadata": {
        "id": "SDPDQyOatbX5"
      },
      "execution_count": null,
      "outputs": []
    },
    {
      "cell_type": "code",
      "source": [
        "# Testowanie sieci\n",
        "model = Sequential([\n",
        "    Dense(units=16, activation='relu'),\n",
        "    Dense(units=1)\n",
        "])\n",
        "\n",
        "# Optymalizator Adam, czyli samodostosowujący szybkośc uczenia się dla SGD\n",
        "model.compile(loss='mean_squared_error',\n",
        "              optimizer=tf.keras.optimizers.Adam(0.21))\n",
        "\n",
        "#model.fit(X_scaled_train, y_train, epochs=1000, verbose=False)\n",
        "model.fit(X_scaled_train, y_train, epochs=20, verbose=False)\n",
        "\n",
        "# wykonujemy predykcję w oparciu o model na danych testowych\n",
        "predictions = model.predict(X_scaled_test)[:, 0]\n"
      ],
      "metadata": {
        "colab": {
          "base_uri": "https://localhost:8080/"
        },
        "id": "ueDMurL4ukIB",
        "outputId": "d4568d35-7e04-4caf-d1d1-871336b58487"
      },
      "execution_count": null,
      "outputs": [
        {
          "output_type": "stream",
          "name": "stdout",
          "text": [
            "8/8 [==============================] - 0s 2ms/step\n"
          ]
        }
      ]
    },
    {
      "cell_type": "code",
      "source": [
        "# Wizualizacja predykcji sieci na danych historycznych Dow Jonesa z nimi samymi\n",
        "import matplotlib.pyplot as plt\n",
        "plt.plot(data_test.index, y_test, c='k')\n",
        "plt.plot(data_test.index, predictions, c='b')\n",
        "plt.xticks(range(0, 252, 10), rotation=60)\n",
        "plt.xlabel('Date')\n",
        "plt.ylabel('Close price')\n",
        "plt.legend(['Truthy Dow Jones', 'Neural network prediction'])\n",
        "plt.show()"
      ],
      "metadata": {
        "colab": {
          "base_uri": "https://localhost:8080/",
          "height": 512
        },
        "id": "F3OeJGxmuqqI",
        "outputId": "400ca69c-a3a7-4aba-c2af-8a90906692df"
      },
      "execution_count": null,
      "outputs": [
        {
          "output_type": "display_data",
          "data": {
            "text/plain": [
              "<Figure size 640x480 with 1 Axes>"
            ],
            "image/png": "[encoded data removed]"
          },
          "metadata": {}
        }
      ]
    },
    {
      "cell_type": "code",
      "source": [
        "import matplotlib.pyplot as plt\n",
        "\n",
        "def make_loss_plot(history):\n",
        "  #import seaborn as sns\n",
        "  #sns.set()\n",
        "  loss = history.history['loss']\n",
        "  epochs = range(1, len(loss) + 1)\n",
        "  plt.figure(figsize=(9, 4))\n",
        "  plt.plot(epochs, loss, label='Strata treningowa', marker='o')\n",
        "  plt.legend()\n",
        "  plt.title('Strata trenowania')\n",
        "  plt.xlabel('Epoki')\n",
        "  plt.ylabel('Strata')\n",
        "  plt.show()"
      ],
      "metadata": {
        "id": "q-CK-2ZqvWAe"
      },
      "execution_count": null,
      "outputs": []
    },
    {
      "cell_type": "code",
      "source": [
        "make_loss_plot(history)"
      ],
      "metadata": {
        "id": "53tMTGJfvW7C"
      },
      "execution_count": null,
      "outputs": []
    },
    {
      "cell_type": "code",
      "source": [
        "# Porównanie z inną metodą - SVR: regresja wektorów nośnych z\n",
        "# jądrem liniowym i radialną funkcją bazową\n",
        "'''\n",
        "param_grid = [\n",
        "    {'kernel':['linear'], 'C': [100, 300, 500],\n",
        "     'epsilon': [0.00003, 0.0001]},\n",
        "    {'kernel': ['rbf'], 'gamma': [1e-3, 1e-4],\n",
        "                'C': [10, 100, 1000], 'epsilon': [0.00003, 0.0001]}\n",
        "]\n",
        "'''"
      ],
      "metadata": {
        "id": "ECQxsxdy_qrM"
      },
      "execution_count": null,
      "outputs": []
    },
    {
      "cell_type": "code",
      "source": [
        "param_grid = [\n",
        "    {'kernel':'linear',\n",
        "     'C': 500,\n",
        "     'epsilon': 0.0001}\n",
        "    ]"
      ],
      "metadata": {
        "id": "tjDUcsIpvmhq"
      },
      "execution_count": null,
      "outputs": []
    },
    {
      "cell_type": "code",
      "source": [
        "# importuję funkcję regresyjnej maszyny wektorów nośnych\n",
        "from sklearn.svm import SVR\n",
        "#svr = SVR?"
      ],
      "metadata": {
        "id": "RkDPAjARA44i"
      },
      "execution_count": null,
      "outputs": []
    },
    {
      "cell_type": "code",
      "source": [
        "#from sklearn.model_selection import GridSearchCV\n",
        "#grid_search = GridSearchCV(svr, param_grid, cv=5, scoring='r2')\n",
        "#grid_search.fit(X_scaled_train, y_train)"
      ],
      "metadata": {
        "id": "tAqLmBfCBMqr",
        "colab": {
          "base_uri": "https://localhost:8080/",
          "height": 390
        },
        "outputId": "a9f849b5-9c7c-4625-d026-662b591b6915"
      },
      "execution_count": 12,
      "outputs": [
        {
          "output_type": "error",
          "ename": "KeyboardInterrupt",
          "evalue": "",
          "traceback": [
            "\u001b[0;31m---------------------------------------------------------------------------\u001b[0m",
            "\u001b[0;31mKeyboardInterrupt\u001b[0m                         Traceback (most recent call last)",
            "\u001b[0;32m<ipython-input-12-d5786bc319f1>\u001b[0m in \u001b[0;36m<cell line: 3>\u001b[0;34m()\u001b[0m\n\u001b[1;32m      1\u001b[0m \u001b[0;32mfrom\u001b[0m \u001b[0msklearn\u001b[0m\u001b[0;34m.\u001b[0m\u001b[0mmodel_selection\u001b[0m \u001b[0;32mimport\u001b[0m \u001b[0mGridSearchCV\u001b[0m\u001b[0;34m\u001b[0m\u001b[0;34m\u001b[0m\u001b[0m\n\u001b[1;32m      2\u001b[0m \u001b[0mgrid_search\u001b[0m \u001b[0;34m=\u001b[0m \u001b[0mGridSearchCV\u001b[0m\u001b[0;34m(\u001b[0m\u001b[0msvr\u001b[0m\u001b[0;34m,\u001b[0m \u001b[0mparam_grid\u001b[0m\u001b[0;34m,\u001b[0m \u001b[0mcv\u001b[0m\u001b[0;34m=\u001b[0m\u001b[0;36m5\u001b[0m\u001b[0;34m,\u001b[0m \u001b[0mscoring\u001b[0m\u001b[0;34m=\u001b[0m\u001b[0;34m'r2'\u001b[0m\u001b[0;34m)\u001b[0m\u001b[0;34m\u001b[0m\u001b[0;34m\u001b[0m\u001b[0m\n\u001b[0;32m----> 3\u001b[0;31m \u001b[0mgrid_search\u001b[0m\u001b[0;34m.\u001b[0m\u001b[0mfit\u001b[0m\u001b[0;34m(\u001b[0m\u001b[0mX_scaled_train\u001b[0m\u001b[0;34m,\u001b[0m \u001b[0my_train\u001b[0m\u001b[0;34m)\u001b[0m\u001b[0;34m\u001b[0m\u001b[0;34m\u001b[0m\u001b[0m\n\u001b[0m",
            "\u001b[0;32m/usr/local/lib/python3.10/dist-packages/sklearn/model_selection/_search.py\u001b[0m in \u001b[0;36mfit\u001b[0;34m(self, X, y, groups, **fit_params)\u001b[0m\n\u001b[1;32m    872\u001b[0m                 \u001b[0;32mreturn\u001b[0m \u001b[0mresults\u001b[0m\u001b[0;34m\u001b[0m\u001b[0;34m\u001b[0m\u001b[0m\n\u001b[1;32m    873\u001b[0m \u001b[0;34m\u001b[0m\u001b[0m\n\u001b[0;32m--> 874\u001b[0;31m             \u001b[0mself\u001b[0m\u001b[0;34m.\u001b[0m\u001b[0m_run_search\u001b[0m\u001b[0;34m(\u001b[0m\u001b[0mevaluate_candidates\u001b[0m\u001b[0;34m)\u001b[0m\u001b[0;34m\u001b[0m\u001b[0;34m\u001b[0m\u001b[0m\n\u001b[0m\u001b[1;32m    875\u001b[0m \u001b[0;34m\u001b[0m\u001b[0m\n\u001b[1;32m    876\u001b[0m             \u001b[0;31m# multimetric is determined here because in the case of a callable\u001b[0m\u001b[0;34m\u001b[0m\u001b[0;34m\u001b[0m\u001b[0m\n",
            "\u001b[0;32m/usr/local/lib/python3.10/dist-packages/sklearn/model_selection/_search.py\u001b[0m in \u001b[0;36m_run_search\u001b[0;34m(self, evaluate_candidates)\u001b[0m\n\u001b[1;32m   1386\u001b[0m     \u001b[0;32mdef\u001b[0m \u001b[0m_run_search\u001b[0m\u001b[0;34m(\u001b[0m\u001b[0mself\u001b[0m\u001b[0;34m,\u001b[0m \u001b[0mevaluate_candidates\u001b[0m\u001b[0;34m)\u001b[0m\u001b[0;34m:\u001b[0m\u001b[0;34m\u001b[0m\u001b[0;34m\u001b[0m\u001b[0m\n\u001b[1;32m   1387\u001b[0m         \u001b[0;34m\"\"\"Search all candidates in param_grid\"\"\"\u001b[0m\u001b[0;34m\u001b[0m\u001b[0;34m\u001b[0m\u001b[0m\n\u001b[0;32m-> 1388\u001b[0;31m         \u001b[0mevaluate_candidates\u001b[0m\u001b[0;34m(\u001b[0m\u001b[0mParameterGrid\u001b[0m\u001b[0;34m(\u001b[0m\u001b[0mself\u001b[0m\u001b[0;34m.\u001b[0m\u001b[0mparam_grid\u001b[0m\u001b[0;34m)\u001b[0m\u001b[0;34m)\u001b[0m\u001b[0;34m\u001b[0m\u001b[0;34m\u001b[0m\u001b[0m\n\u001b[0m\u001b[1;32m   1389\u001b[0m \u001b[0;34m\u001b[0m\u001b[0m\n\u001b[1;32m   1390\u001b[0m \u001b[0;34m\u001b[0m\u001b[0m\n",
            "\u001b[0;32m/usr/local/lib/python3.10/dist-packages/sklearn/model_selection/_search.py\u001b[0m in \u001b[0;36mevaluate_candidates\u001b[0;34m(candidate_params, cv, more_results)\u001b[0m\n\u001b[1;32m    819\u001b[0m                     )\n\u001b[1;32m    820\u001b[0m \u001b[0;34m\u001b[0m\u001b[0m\n\u001b[0;32m--> 821\u001b[0;31m                 out = parallel(\n\u001b[0m\u001b[1;32m    822\u001b[0m                     delayed(_fit_and_score)(\n\u001b[1;32m    823\u001b[0m                         \u001b[0mclone\u001b[0m\u001b[0;34m(\u001b[0m\u001b[0mbase_estimator\u001b[0m\u001b[0;34m)\u001b[0m\u001b[0;34m,\u001b[0m\u001b[0;34m\u001b[0m\u001b[0;34m\u001b[0m\u001b[0m\n",
            "\u001b[0;32m/usr/local/lib/python3.10/dist-packages/sklearn/utils/parallel.py\u001b[0m in \u001b[0;36m__call__\u001b[0;34m(self, iterable)\u001b[0m\n\u001b[1;32m     61\u001b[0m             \u001b[0;32mfor\u001b[0m \u001b[0mdelayed_func\u001b[0m\u001b[0;34m,\u001b[0m \u001b[0margs\u001b[0m\u001b[0;34m,\u001b[0m \u001b[0mkwargs\u001b[0m \u001b[0;32min\u001b[0m \u001b[0miterable\u001b[0m\u001b[0;34m\u001b[0m\u001b[0;34m\u001b[0m\u001b[0m\n\u001b[1;32m     62\u001b[0m         )\n\u001b[0;32m---> 63\u001b[0;31m         \u001b[0;32mreturn\u001b[0m \u001b[0msuper\u001b[0m\u001b[0;34m(\u001b[0m\u001b[0;34m)\u001b[0m\u001b[0;34m.\u001b[0m\u001b[0m__call__\u001b[0m\u001b[0;34m(\u001b[0m\u001b[0miterable_with_config\u001b[0m\u001b[0;34m)\u001b[0m\u001b[0;34m\u001b[0m\u001b[0;34m\u001b[0m\u001b[0m\n\u001b[0m\u001b[1;32m     64\u001b[0m \u001b[0;34m\u001b[0m\u001b[0m\n\u001b[1;32m     65\u001b[0m \u001b[0;34m\u001b[0m\u001b[0m\n",
            "\u001b[0;32m/usr/local/lib/python3.10/dist-packages/joblib/parallel.py\u001b[0m in \u001b[0;36m__call__\u001b[0;34m(self, iterable)\u001b[0m\n\u001b[1;32m   1861\u001b[0m             \u001b[0moutput\u001b[0m \u001b[0;34m=\u001b[0m \u001b[0mself\u001b[0m\u001b[0;34m.\u001b[0m\u001b[0m_get_sequential_output\u001b[0m\u001b[0;34m(\u001b[0m\u001b[0miterable\u001b[0m\u001b[0;34m)\u001b[0m\u001b[0;34m\u001b[0m\u001b[0;34m\u001b[0m\u001b[0m\n\u001b[1;32m   1862\u001b[0m             \u001b[0mnext\u001b[0m\u001b[0;34m(\u001b[0m\u001b[0moutput\u001b[0m\u001b[0;34m)\u001b[0m\u001b[0;34m\u001b[0m\u001b[0;34m\u001b[0m\u001b[0m\n\u001b[0;32m-> 1863\u001b[0;31m             \u001b[0;32mreturn\u001b[0m \u001b[0moutput\u001b[0m \u001b[0;32mif\u001b[0m \u001b[0mself\u001b[0m\u001b[0;34m.\u001b[0m\u001b[0mreturn_generator\u001b[0m \u001b[0;32melse\u001b[0m \u001b[0mlist\u001b[0m\u001b[0;34m(\u001b[0m\u001b[0moutput\u001b[0m\u001b[0;34m)\u001b[0m\u001b[0;34m\u001b[0m\u001b[0;34m\u001b[0m\u001b[0m\n\u001b[0m\u001b[1;32m   1864\u001b[0m \u001b[0;34m\u001b[0m\u001b[0m\n\u001b[1;32m   1865\u001b[0m         \u001b[0;31m# Let's create an ID that uniquely identifies the current call. If the\u001b[0m\u001b[0;34m\u001b[0m\u001b[0;34m\u001b[0m\u001b[0m\n",
            "\u001b[0;32m/usr/local/lib/python3.10/dist-packages/joblib/parallel.py\u001b[0m in \u001b[0;36m_get_sequential_output\u001b[0;34m(self, iterable)\u001b[0m\n\u001b[1;32m   1790\u001b[0m                 \u001b[0mself\u001b[0m\u001b[0;34m.\u001b[0m\u001b[0mn_dispatched_batches\u001b[0m \u001b[0;34m+=\u001b[0m \u001b[0;36m1\u001b[0m\u001b[0;34m\u001b[0m\u001b[0;34m\u001b[0m\u001b[0m\n\u001b[1;32m   1791\u001b[0m                 \u001b[0mself\u001b[0m\u001b[0;34m.\u001b[0m\u001b[0mn_dispatched_tasks\u001b[0m \u001b[0;34m+=\u001b[0m \u001b[0;36m1\u001b[0m\u001b[0;34m\u001b[0m\u001b[0;34m\u001b[0m\u001b[0m\n\u001b[0;32m-> 1792\u001b[0;31m                 \u001b[0mres\u001b[0m \u001b[0;34m=\u001b[0m \u001b[0mfunc\u001b[0m\u001b[0;34m(\u001b[0m\u001b[0;34m*\u001b[0m\u001b[0margs\u001b[0m\u001b[0;34m,\u001b[0m \u001b[0;34m**\u001b[0m\u001b[0mkwargs\u001b[0m\u001b[0;34m)\u001b[0m\u001b[0;34m\u001b[0m\u001b[0;34m\u001b[0m\u001b[0m\n\u001b[0m\u001b[1;32m   1793\u001b[0m                 \u001b[0mself\u001b[0m\u001b[0;34m.\u001b[0m\u001b[0mn_completed_tasks\u001b[0m \u001b[0;34m+=\u001b[0m \u001b[0;36m1\u001b[0m\u001b[0;34m\u001b[0m\u001b[0;34m\u001b[0m\u001b[0m\n\u001b[1;32m   1794\u001b[0m                 \u001b[0mself\u001b[0m\u001b[0;34m.\u001b[0m\u001b[0mprint_progress\u001b[0m\u001b[0;34m(\u001b[0m\u001b[0;34m)\u001b[0m\u001b[0;34m\u001b[0m\u001b[0;34m\u001b[0m\u001b[0m\n",
            "\u001b[0;32m/usr/local/lib/python3.10/dist-packages/sklearn/utils/parallel.py\u001b[0m in \u001b[0;36m__call__\u001b[0;34m(self, *args, **kwargs)\u001b[0m\n\u001b[1;32m    121\u001b[0m             \u001b[0mconfig\u001b[0m \u001b[0;34m=\u001b[0m \u001b[0;34m{\u001b[0m\u001b[0;34m}\u001b[0m\u001b[0;34m\u001b[0m\u001b[0;34m\u001b[0m\u001b[0m\n\u001b[1;32m    122\u001b[0m         \u001b[0;32mwith\u001b[0m \u001b[0mconfig_context\u001b[0m\u001b[0;34m(\u001b[0m\u001b[0;34m**\u001b[0m\u001b[0mconfig\u001b[0m\u001b[0;34m)\u001b[0m\u001b[0;34m:\u001b[0m\u001b[0;34m\u001b[0m\u001b[0;34m\u001b[0m\u001b[0m\n\u001b[0;32m--> 123\u001b[0;31m             \u001b[0;32mreturn\u001b[0m \u001b[0mself\u001b[0m\u001b[0;34m.\u001b[0m\u001b[0mfunction\u001b[0m\u001b[0;34m(\u001b[0m\u001b[0;34m*\u001b[0m\u001b[0margs\u001b[0m\u001b[0;34m,\u001b[0m \u001b[0;34m**\u001b[0m\u001b[0mkwargs\u001b[0m\u001b[0;34m)\u001b[0m\u001b[0;34m\u001b[0m\u001b[0;34m\u001b[0m\u001b[0m\n\u001b[0m",
            "\u001b[0;32m/usr/local/lib/python3.10/dist-packages/sklearn/model_selection/_validation.py\u001b[0m in \u001b[0;36m_fit_and_score\u001b[0;34m(estimator, X, y, scorer, train, test, verbose, parameters, fit_params, return_train_score, return_parameters, return_n_test_samples, return_times, return_estimator, split_progress, candidate_progress, error_score)\u001b[0m\n\u001b[1;32m    684\u001b[0m             \u001b[0mestimator\u001b[0m\u001b[0;34m.\u001b[0m\u001b[0mfit\u001b[0m\u001b[0;34m(\u001b[0m\u001b[0mX_train\u001b[0m\u001b[0;34m,\u001b[0m \u001b[0;34m**\u001b[0m\u001b[0mfit_params\u001b[0m\u001b[0;34m)\u001b[0m\u001b[0;34m\u001b[0m\u001b[0;34m\u001b[0m\u001b[0m\n\u001b[1;32m    685\u001b[0m         \u001b[0;32melse\u001b[0m\u001b[0;34m:\u001b[0m\u001b[0;34m\u001b[0m\u001b[0;34m\u001b[0m\u001b[0m\n\u001b[0;32m--> 686\u001b[0;31m             \u001b[0mestimator\u001b[0m\u001b[0;34m.\u001b[0m\u001b[0mfit\u001b[0m\u001b[0;34m(\u001b[0m\u001b[0mX_train\u001b[0m\u001b[0;34m,\u001b[0m \u001b[0my_train\u001b[0m\u001b[0;34m,\u001b[0m \u001b[0;34m**\u001b[0m\u001b[0mfit_params\u001b[0m\u001b[0;34m)\u001b[0m\u001b[0;34m\u001b[0m\u001b[0;34m\u001b[0m\u001b[0m\n\u001b[0m\u001b[1;32m    687\u001b[0m \u001b[0;34m\u001b[0m\u001b[0m\n\u001b[1;32m    688\u001b[0m     \u001b[0;32mexcept\u001b[0m \u001b[0mException\u001b[0m\u001b[0;34m:\u001b[0m\u001b[0;34m\u001b[0m\u001b[0;34m\u001b[0m\u001b[0m\n",
            "\u001b[0;32m/usr/local/lib/python3.10/dist-packages/sklearn/svm/_base.py\u001b[0m in \u001b[0;36mfit\u001b[0;34m(self, X, y, sample_weight)\u001b[0m\n\u001b[1;32m    250\u001b[0m \u001b[0;34m\u001b[0m\u001b[0m\n\u001b[1;32m    251\u001b[0m         \u001b[0mseed\u001b[0m \u001b[0;34m=\u001b[0m \u001b[0mrnd\u001b[0m\u001b[0;34m.\u001b[0m\u001b[0mrandint\u001b[0m\u001b[0;34m(\u001b[0m\u001b[0mnp\u001b[0m\u001b[0;34m.\u001b[0m\u001b[0miinfo\u001b[0m\u001b[0;34m(\u001b[0m\u001b[0;34m\"i\"\u001b[0m\u001b[0;34m)\u001b[0m\u001b[0;34m.\u001b[0m\u001b[0mmax\u001b[0m\u001b[0;34m)\u001b[0m\u001b[0;34m\u001b[0m\u001b[0;34m\u001b[0m\u001b[0m\n\u001b[0;32m--> 252\u001b[0;31m         \u001b[0mfit\u001b[0m\u001b[0;34m(\u001b[0m\u001b[0mX\u001b[0m\u001b[0;34m,\u001b[0m \u001b[0my\u001b[0m\u001b[0;34m,\u001b[0m \u001b[0msample_weight\u001b[0m\u001b[0;34m,\u001b[0m \u001b[0msolver_type\u001b[0m\u001b[0;34m,\u001b[0m \u001b[0mkernel\u001b[0m\u001b[0;34m,\u001b[0m \u001b[0mrandom_seed\u001b[0m\u001b[0;34m=\u001b[0m\u001b[0mseed\u001b[0m\u001b[0;34m)\u001b[0m\u001b[0;34m\u001b[0m\u001b[0;34m\u001b[0m\u001b[0m\n\u001b[0m\u001b[1;32m    253\u001b[0m         \u001b[0;31m# see comment on the other call to np.iinfo in this file\u001b[0m\u001b[0;34m\u001b[0m\u001b[0;34m\u001b[0m\u001b[0m\n\u001b[1;32m    254\u001b[0m \u001b[0;34m\u001b[0m\u001b[0m\n",
            "\u001b[0;32m/usr/local/lib/python3.10/dist-packages/sklearn/svm/_base.py\u001b[0m in \u001b[0;36m_dense_fit\u001b[0;34m(self, X, y, sample_weight, solver_type, kernel, random_seed)\u001b[0m\n\u001b[1;32m    329\u001b[0m             \u001b[0mself\u001b[0m\u001b[0;34m.\u001b[0m\u001b[0mfit_status_\u001b[0m\u001b[0;34m,\u001b[0m\u001b[0;34m\u001b[0m\u001b[0;34m\u001b[0m\u001b[0m\n\u001b[1;32m    330\u001b[0m             \u001b[0mself\u001b[0m\u001b[0;34m.\u001b[0m\u001b[0m_num_iter\u001b[0m\u001b[0;34m,\u001b[0m\u001b[0;34m\u001b[0m\u001b[0;34m\u001b[0m\u001b[0m\n\u001b[0;32m--> 331\u001b[0;31m         \u001b[0;34m)\u001b[0m \u001b[0;34m=\u001b[0m \u001b[0mlibsvm\u001b[0m\u001b[0;34m.\u001b[0m\u001b[0mfit\u001b[0m\u001b[0;34m(\u001b[0m\u001b[0;34m\u001b[0m\u001b[0;34m\u001b[0m\u001b[0m\n\u001b[0m\u001b[1;32m    332\u001b[0m             \u001b[0mX\u001b[0m\u001b[0;34m,\u001b[0m\u001b[0;34m\u001b[0m\u001b[0;34m\u001b[0m\u001b[0m\n\u001b[1;32m    333\u001b[0m             \u001b[0my\u001b[0m\u001b[0;34m,\u001b[0m\u001b[0;34m\u001b[0m\u001b[0;34m\u001b[0m\u001b[0m\n",
            "\u001b[0;32msklearn/svm/_libsvm.pyx\u001b[0m in \u001b[0;36msklearn.svm._libsvm.fit\u001b[0;34m()\u001b[0m\n",
            "\u001b[0;31mKeyboardInterrupt\u001b[0m: "
          ]
        }
      ]
    },
    {
      "cell_type": "code",
      "source": [
        "#print(grid_search.best_params_)"
      ],
      "metadata": {
        "id": "15fSiOiDI8wy"
      },
      "execution_count": null,
      "outputs": []
    },
    {
      "cell_type": "code",
      "source": [
        "#svr_best = grid_search.best_estimator_"
      ],
      "metadata": {
        "id": "6zU4Rgrn2OR5"
      },
      "execution_count": null,
      "outputs": []
    },
    {
      "cell_type": "code",
      "source": [
        "svr = SVR(kernel='linear', epsilon=0.05, C=10)\n",
        "# best param: C=500, epsilon=0.0001\n",
        "# but time is tragic\n",
        "\n",
        "# trening modelu svr\n",
        "svr.fit(X_scaled_train, y_train)"
      ],
      "metadata": {
        "id": "AE25TIaMwBhU"
      },
      "execution_count": null,
      "outputs": []
    },
    {
      "cell_type": "code",
      "source": [
        "# Testy SVRa\n",
        "#predictions_svr = svr_best.predict(X_scaled_test)\n",
        "predictions_svr = svr.predict(X_scaled_test)\n",
        "\n",
        "# Metryki\n",
        "print(f'Błąd średniokwadratowy: {mean_squared_error(y_test, predictions_svr):.3f}')"
      ],
      "metadata": {
        "id": "TjUJPd5QJKoz"
      },
      "execution_count": null,
      "outputs": []
    },
    {
      "cell_type": "code",
      "source": [
        "print(f'Błąd bezwględny: {mean_absolute_error(y_test, predictions_svr):.3f}')"
      ],
      "metadata": {
        "id": "3wlb1UFZJ7Qb"
      },
      "execution_count": null,
      "outputs": []
    },
    {
      "cell_type": "code",
      "source": [
        "print(f'R^2: {r2_score(y_test, predictions_svr):.3f}')"
      ],
      "metadata": {
        "id": "tCz0DokFKJIN"
      },
      "execution_count": null,
      "outputs": []
    },
    {
      "cell_type": "code",
      "source": [
        "# wizualizacja porównania notowań oraz predykcji sieci neuronowej i SVR na danych testowych\n",
        "plt.plot(data_test.index, y_test, c='k')\n",
        "plt.plot(data_test.index, predictions, c='b')\n",
        "plt.plot(data_test.index, predictions_svr, c='g')\n",
        "plt.xticks(range(0, 252, 10), rotation=60)\n",
        "plt.xlabel('Date')\n",
        "plt.ylabel('Close price')\n",
        "plt.legend(['Truthy Dow Jones', 'Neural network prediction', 'SVR'])\n",
        "plt.show()"
      ],
      "metadata": {
        "id": "4a7AblfXKcaz"
      },
      "execution_count": null,
      "outputs": []
    }
  ]
}